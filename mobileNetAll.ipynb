{
  "nbformat": 4,
  "nbformat_minor": 0,
  "metadata": {
    "colab": {
      "name": "mobileNetAll",
      "provenance": [],
      "collapsed_sections": [],
      "mount_file_id": "1Urjoc9bx-uXuDrPgI_BmPHPOJds6Fu-m",
      "authorship_tag": "ABX9TyMK4m/xwoAnNg9Mfh4xP7d6",
      "include_colab_link": true
    },
    "kernelspec": {
      "name": "python3",
      "display_name": "Python 3"
    },
    "language_info": {
      "name": "python"
    },
    "accelerator": "GPU"
  },
  "cells": [
    {
      "cell_type": "markdown",
      "metadata": {
        "id": "view-in-github",
        "colab_type": "text"
      },
      "source": [
        "<a href=\"https://colab.research.google.com/github/LZHbaba/lzh_garbage_classification/blob/main/mobileNetAll.ipynb\" target=\"_parent\"><img src=\"https://colab.research.google.com/assets/colab-badge.svg\" alt=\"Open In Colab\"/></a>"
      ]
    },
    {
      "cell_type": "markdown",
      "source": [
        "**MobileNetV3Large** :\n",
        "\n",
        "> SEED = 2022\n",
        "\n",
        "\n",
        "> IMG_SIZE = 224\n",
        "\n",
        "\n",
        "> loss=tf.keras.losses.CategoricalCrossentropy(\n",
        "    label_smoothing=0.1\n",
        ")\n",
        "\n",
        "\n",
        "\n",
        "> patience=(10,30)\n",
        "\n",
        "\n",
        "> epoch=100 \n",
        "\n",
        "\n",
        "\n",
        "\n",
        "> trainable layers=last 150\n",
        "\n",
        "\n",
        "\n",
        "\n",
        "\n",
        "\n",
        "\n",
        "\n",
        "\n"
      ],
      "metadata": {
        "id": "NVZYFohZxzAy"
      }
    },
    {
      "cell_type": "code",
      "source": [
        "import numpy as np\n",
        "\n",
        "#import tensorflow to use any tools needed for deep learning\n",
        "import tensorflow as tf\n",
        "\n",
        "#import keras api needed to implement deep learning techiques\n",
        "from tensorflow import keras\n",
        "from tensorflow.keras.models import Sequential\n",
        "from tensorflow.keras.layers import Activation, Dense, BatchNormalization, Conv2D, MaxPool2D, GlobalAveragePooling2D, Dropout\n",
        "from tensorflow.keras.optimizers import Adam\n",
        "from tensorflow.keras.losses import CategoricalCrossentropy\n",
        "from tensorflow.keras.preprocessing.image import ImageDataGenerator\n",
        "from tensorflow.keras.callbacks import EarlyStopping, ModelCheckpoint\n",
        "#import libraries for visualization of data\n",
        "import matplotlib.pyplot as plt\n",
        "\n",
        "\n",
        "\n",
        "np.random.seed(2022)\n",
        "tf.random.set_seed(2022)\n",
        "SEED = 2022\n",
        "#Allow charts and graphics to display right below the page of browser setup\n",
        "%matplotlib inline\n",
        "#paths to the train, validation and test image datasets \n",
        "train_path = '/content/drive/MyDrive/datasets_garbage/Garbage classification'\n",
        "valid_path = '/content/drive/MyDrive/datasets_garbage/Garbage classification'\n",
        "\n",
        "IMG_SIZE = 224\n",
        "IMG_SHAPE = (IMG_SIZE, IMG_SIZE, 3)\n",
        "# extract images to training set by applying data preprocessing and data augmentation\n",
        "train_batches = ImageDataGenerator(\n",
        "    preprocessing_function=  tf.keras.applications.mobilenet_v3.preprocess_input ,\n",
        "    shear_range=0.2,\n",
        "    zoom_range=0.2,\n",
        "    width_shift_range=0.2,\n",
        "    height_shift_range=0.2,\n",
        "    validation_split=0.1).flow_from_directory(\n",
        "    directory=train_path, target_size=(IMG_SIZE,IMG_SIZE), classes=['cardboard', 'glass', 'metal', 'paper', 'plastic', 'trash'], batch_size=16, subset='training',seed=SEED)\n",
        "\n",
        "\n",
        "# extract images to validation set\n",
        "valid_batches = ImageDataGenerator(\n",
        "    preprocessing_function=  tf.keras.applications.mobilenet_v3.preprocess_input ,\n",
        "    validation_split=0.1).flow_from_directory(\n",
        "    directory=valid_path, target_size=(IMG_SIZE,IMG_SIZE), classes=['cardboard', 'glass', 'metal', 'paper', 'plastic', 'trash'], batch_size=16, subset='validation',seed=SEED)\n",
        "\n",
        "\n",
        "# import the convolution base of the VGG16 model with pre-trained weights\n",
        "#base_model = tf.keras.applications.resnet.ResNet152(input_shape=IMG_SHAPE, \n",
        "                                       # include_top=False,\n",
        "                                      #  weights='imagenet')\n",
        "#base_model = tf.keras.applications.efficientnet.EfficientNetB7(include_top=False, weights='imagenet', input_shape=IMG_SHAPE)\n",
        "#model = Sequential()\n",
        "base_model = tf.keras.applications.MobileNetV3Large(\n",
        "    input_shape=IMG_SHAPE, alpha=1.0, include_top=False,\n",
        "    weights='imagenet', pooling=None,\n",
        "    dropout_rate=0.5)\n",
        "model = Sequential()\n",
        "# Freeze the convolutional base of VGG16 to prevent the pre-trained weights being updated \n",
        "# during training inorder to extract features\n",
        "base_model.trainable=False\n",
        "\n",
        "# add VGG16 convolution base to initialize sequential model\n",
        "model.add(base_model)\n",
        "\n",
        "# add global average pooling layer\n",
        "model.add(GlobalAveragePooling2D())\n",
        "\n",
        "# add densely-connected NN layer with 512 hidden units\n",
        "model.add(Dense(units=512, activation='relu'))  # use ReLU activation function\n",
        "model.add(BatchNormalization())                 # normalize and scale inputs or activations\n",
        "model.add(Dropout(0.5))                         # applies dopout to the input which will randomly disable 20% of hidden units\n",
        "\n",
        "# add densely-connected NN layer with 128 hidden units\n",
        "model.add(Dense(units=128, activation='relu')) # use ReLU activation function\n",
        "model.add(BatchNormalization())                # normalize and scale inputs or activations\n",
        "model.add(Dropout(0.5))                        # applies dopout to the input which will randomly disable 20% of hidden units\n",
        "\n",
        "# add densely-connected NN layer with 6 hidden units\n",
        "model.add(Dense(units=6, activation='softmax')) # use Softmax activation function to do final predictions\n",
        "model.summary()\n",
        "loss=tf.keras.losses.CategoricalCrossentropy(\n",
        "    label_smoothing=0.1\n",
        ")\n",
        "loss1='categorical_crossentropy'\n",
        "model.compile(optimizer=Adam(learning_rate=0.001), loss=loss, metrics=['accuracy'])\n",
        "\n",
        "\n",
        "\n",
        "from keras.callbacks import ModelCheckpoint, LearningRateScheduler,ReduceLROnPlateau\n",
        "\n",
        "#lr_scheduler = LearningRateScheduler(lr_schedule)\n",
        "\n",
        "lr_reducer = ReduceLROnPlateau(factor=0.1,\n",
        "                               monitor='val_loss',\n",
        "                               cooldown=0,\n",
        "                               patience=10,\n",
        "                               min_lr=0,\n",
        "                               verbose=1,\n",
        "                               mode='auto',\n",
        "                               \n",
        "                              )\n",
        "es = EarlyStopping(monitor='val_loss', mode='auto', verbose=1, patience=30)\n",
        "callbacks = [lr_reducer,es]\n",
        "\n",
        "\n",
        "import time\n",
        "start = time.time()\n",
        "history = model.fit(\n",
        "   train_batches,\n",
        "    steps_per_epoch=train_batches.samples/train_batches.batch_size ,\n",
        "    epochs=50,\n",
        "    validation_data=valid_batches,\n",
        "    validation_steps=valid_batches.samples/valid_batches.batch_size,\n",
        "    verbose=1,\n",
        "    callbacks = callbacks)\n",
        "loss = history.history['loss']\n",
        "validation_loss = history.history['val_loss']\n",
        "accuracy = history.history['accuracy']\n",
        "validation_accuracy =history.history['val_accuracy']\n",
        "from tensorflow.keras import layers\n",
        "for layer in model.layers[-150:]:\n",
        "        if not isinstance(layer, layers.BatchNormalization):\n",
        "            layer.trainable = True\n",
        "#base_model.trainable=True\n",
        "history = model.fit(\n",
        "   train_batches,\n",
        "    steps_per_epoch=train_batches.samples/train_batches.batch_size ,\n",
        "    epochs=50,\n",
        "    validation_data=valid_batches,\n",
        "    validation_steps=valid_batches.samples/valid_batches.batch_size,\n",
        "    verbose=1,\n",
        "    callbacks = callbacks)\n",
        "loss.extend(history.history['loss'])\n",
        "validation_loss.extend(history.history['val_loss'])\n",
        "accuracy.extend(history.history['accuracy'])\n",
        "validation_accuracy.extend(history.history['val_accuracy'])\n",
        "time_used = time.time()-start\n",
        "print(time_used)\n",
        "\n",
        "\n",
        "epochs = range(1, len(loss)+1)\n",
        "\n",
        "fig1 = plt.figure(figsize=(10,6))\n",
        "plt.plot(epochs,loss,'r*-',label=\"Training\")\n",
        "plt.plot(epochs,validation_loss,c=\"blue\",label=\"Validation\")\n",
        "plt.xlabel(\"Epochs\")\n",
        "plt.ylabel(\"Loss\")\n",
        "plt.ylim([0,max(plt.ylim())])\n",
        "plt.xticks(epochs)\n",
        "plt.legend()\n",
        "\n",
        "epochs1 = range(1, len(accuracy)+1)\n",
        "\n",
        "fig2 = plt.figure(figsize=(10,6))\n",
        "plt.plot(epochs1,accuracy,'r*-',label=\"Training\")\n",
        "plt.plot(epochs1,validation_accuracy,c=\"blue\",label=\"Validation\")\n",
        "plt.xlabel(\"Epochs\")\n",
        "plt.ylabel(\"Accuracy\")\n",
        "plt.ylim([0,max(plt.ylim())])\n",
        "plt.xticks(epochs1)\n",
        "plt.legend()\n",
        "\n",
        "def save_txt(file_name='',object=[]):\n",
        "    file = open(file_name, 'w')\n",
        "    file.write(str(object))\n",
        "    file.close()\n",
        "\n",
        "save_txt('/content/drive/MyDrive/mobileNetV3/mobileNetV3_100_150_10_30/loss.txt',loss)\n",
        "save_txt('/content/drive/MyDrive/mobileNetV3/mobileNetV3_100_150_10_30/val_loss.txt',validation_loss)\n",
        "save_txt('/content/drive/MyDrive/mobileNetV3/mobileNetV3_100_150_10_30/acc.txt',accuracy)\n",
        "save_txt('/content/drive/MyDrive/mobileNetV3/mobileNetV3_100_150_10_30/val_acc.txt',validation_accuracy)\n",
        "save_path='/content/drive/MyDrive/mobileNetV3/mobileNetV3_100_150_10_30/mobilenetV3_parameter1_100_last150_10_30.h5'\n",
        "\n",
        "model.save_weights(save_path)"
      ],
      "metadata": {
        "id": "hVOdAD5-nEe4"
      },
      "execution_count": null,
      "outputs": []
    },
    {
      "cell_type": "markdown",
      "source": [
        "**下载模型参数**"
      ],
      "metadata": {
        "id": "LyeN1UANzkGF"
      }
    },
    {
      "cell_type": "code",
      "source": [
        "!unzip '/content/results.zip' -d '/content/slr'"
      ],
      "metadata": {
        "id": "jWmNe-HFXzYk"
      },
      "execution_count": null,
      "outputs": []
    },
    {
      "cell_type": "markdown",
      "source": [
        "**导入模型参数**"
      ],
      "metadata": {
        "id": "ecPpdWF9zpSt"
      }
    },
    {
      "cell_type": "code",
      "source": [
        "import numpy as np\n",
        "\n",
        "#import tensorflow to use any tools needed for deep learning\n",
        "import tensorflow as tf\n",
        "\n",
        "#import keras api needed to implement deep learning techiques\n",
        "from tensorflow import keras\n",
        "from tensorflow.keras.models import Sequential\n",
        "from tensorflow.keras.layers import Activation, Dense, BatchNormalization, Conv2D, MaxPool2D, GlobalAveragePooling2D, Dropout\n",
        "from tensorflow.keras.optimizers import Adam\n",
        "from tensorflow.keras.losses import CategoricalCrossentropy\n",
        "from tensorflow.keras.preprocessing.image import ImageDataGenerator\n",
        "from tensorflow.keras.callbacks import EarlyStopping, ModelCheckpoint\n",
        "#import libraries for visualization of data\n",
        "import matplotlib.pyplot as plt\n",
        "\n",
        "\n",
        "\n",
        "np.random.seed(2022)\n",
        "tf.random.set_seed(2022)\n",
        "SEED = 2022\n",
        "#Allow charts and graphics to display right below the page of browser setup\n",
        "%matplotlib inline\n",
        "#paths to the train, validation and test image datasets \n",
        "train_path = '/content/drive/MyDrive/datasets_garbage/Garbage classification'\n",
        "valid_path = '/content/drive/MyDrive/datasets_garbage/Garbage classification'\n",
        "\n",
        "IMG_SIZE = 224\n",
        "IMG_SHAPE = (IMG_SIZE, IMG_SIZE, 3)\n",
        "# extract images to training set by applying data preprocessing and data augmentation\n",
        "train_batches = ImageDataGenerator(\n",
        "    preprocessing_function=  tf.keras.applications.mobilenet_v3.preprocess_input ,\n",
        "    shear_range=0.2,\n",
        "    zoom_range=0.2,\n",
        "    width_shift_range=0.2,\n",
        "    height_shift_range=0.2,\n",
        "    validation_split=0.1).flow_from_directory(\n",
        "    directory=train_path, target_size=(IMG_SIZE,IMG_SIZE), classes=['cardboard', 'glass', 'metal', 'paper', 'plastic', 'trash'], batch_size=16, subset='training',seed=SEED)\n",
        "\n",
        "\n",
        "# extract images to validation set\n",
        "valid_batches = ImageDataGenerator(\n",
        "    preprocessing_function=  tf.keras.applications.mobilenet_v3.preprocess_input ,\n",
        "    validation_split=0.1).flow_from_directory(\n",
        "    directory=valid_path, target_size=(IMG_SIZE,IMG_SIZE), classes=['cardboard', 'glass', 'metal', 'paper', 'plastic', 'trash'], batch_size=16, subset='validation',seed=SEED)\n",
        "\n",
        "\n",
        "# import the convolution base of the VGG16 model with pre-trained weights\n",
        "#base_model = tf.keras.applications.resnet.ResNet152(input_shape=IMG_SHAPE, \n",
        "                                       # include_top=False,\n",
        "                                      #  weights='imagenet')\n",
        "#base_model = tf.keras.applications.efficientnet.EfficientNetB7(include_top=False, weights='imagenet', input_shape=IMG_SHAPE)\n",
        "#model = Sequential()\n",
        "base_model = tf.keras.applications.MobileNetV3Large(\n",
        "    input_shape=IMG_SHAPE, alpha=1.0, include_top=False,\n",
        "    weights=None, pooling=None,\n",
        "    dropout_rate=0.5)\n",
        "model = Sequential()\n",
        "# Freeze the convolutional base of VGG16 to prevent the pre-trained weights being updated \n",
        "# during training inorder to extract features\n",
        "#base_model.trainable=False\n",
        "\n",
        "# add VGG16 convolution base to initialize sequential model\n",
        "model.add(base_model)\n",
        "\n",
        "# add global average pooling layer\n",
        "model.add(GlobalAveragePooling2D())\n",
        "\n",
        "# add densely-connected NN layer with 512 hidden units\n",
        "model.add(Dense(units=512, activation='relu'))  # use ReLU activation function\n",
        "model.add(BatchNormalization())                 # normalize and scale inputs or activations\n",
        "model.add(Dropout(0.5))                         # applies dopout to the input which will randomly disable 20% of hidden units\n",
        "\n",
        "# add densely-connected NN layer with 128 hidden units\n",
        "model.add(Dense(units=128, activation='relu')) # use ReLU activation function\n",
        "model.add(BatchNormalization())                # normalize and scale inputs or activations\n",
        "model.add(Dropout(0.5))                        # applies dopout to the input which will randomly disable 20% of hidden units\n",
        "\n",
        "# add densely-connected NN layer with 6 hidden units\n",
        "model.add(Dense(units=6, activation='softmax')) # use Softmax activation function to do final predictions\n",
        "model.summary()\n",
        "loss=loss=tf.keras.losses.CategoricalCrossentropy(\n",
        "    label_smoothing=0.1\n",
        ")\n",
        "loss1='categorical_crossentropy'\n",
        "model.compile(optimizer=Adam(learning_rate=0.001), loss=loss, metrics=['accuracy'])\n",
        "model.load_weights('/content/mobilenetV3_parameter1_100_last150_10_30.h5')\n",
        "model.summary()"
      ],
      "metadata": {
        "id": "XT2pRzlJWQKt"
      },
      "execution_count": null,
      "outputs": []
    },
    {
      "cell_type": "code",
      "source": [
        "valid_datagen = ImageDataGenerator(\n",
        "    preprocessing_function=  tf.keras.applications.mobilenet_v3.preprocess_input ,\n",
        "    validation_split=0.1)\n",
        "valid_batches=valid_datagen.flow_from_directory(\n",
        "    directory=valid_path, target_size=(IMG_SIZE,IMG_SIZE), classes=['cardboard', 'glass', 'metal', 'paper', 'plastic', 'trash'], batch_size=16, subset='validation',seed=SEED)"
      ],
      "metadata": {
        "colab": {
          "base_uri": "https://localhost:8080/"
        },
        "id": "YUHjIM3mZX_s",
        "outputId": "0010bcd4-c549-4580-91a9-1d66a9ef5d71"
      },
      "execution_count": null,
      "outputs": [
        {
          "output_type": "stream",
          "name": "stdout",
          "text": [
            "Found 251 images belonging to 6 classes.\n"
          ]
        }
      ]
    },
    {
      "cell_type": "markdown",
      "source": [
        "**evaluate model**"
      ],
      "metadata": {
        "id": "pbY_A5HN0Nnf"
      }
    },
    {
      "cell_type": "code",
      "source": [
        "loss=tf.keras.losses.CategoricalCrossentropy(label_smoothing=0.2)\n",
        "loss1='categorical_crossentropy'\n",
        "model.compile(optimizer=Adam(learning_rate=0.001), loss=loss1, metrics=['accuracy'])"
      ],
      "metadata": {
        "id": "jzeSJwqKdd5G"
      },
      "execution_count": null,
      "outputs": []
    },
    {
      "cell_type": "code",
      "source": [
        "model.evaluate(valid_batches)"
      ],
      "metadata": {
        "colab": {
          "base_uri": "https://localhost:8080/"
        },
        "id": "oFzWoUxPYbeg",
        "outputId": "8eef217b-b5ef-4dac-88d6-cc15039eb532"
      },
      "execution_count": null,
      "outputs": [
        {
          "output_type": "stream",
          "name": "stdout",
          "text": [
            "16/16 [==============================] - 63s 3s/step - loss: 0.2165 - accuracy: 0.9203\n"
          ]
        },
        {
          "output_type": "execute_result",
          "data": {
            "text/plain": [
              "[0.21645504236221313, 0.9203187227249146]"
            ]
          },
          "metadata": {},
          "execution_count": 5
        }
      ]
    },
    {
      "cell_type": "markdown",
      "source": [
        "**evaluate every category**"
      ],
      "metadata": {
        "id": "Yl_qeVLi0giY"
      }
    },
    {
      "cell_type": "code",
      "source": [
        "from keras.preprocessing import image\n",
        "calculate_acc=np.zeros([2,6])\n",
        "label_acc=np.zeros([3,10])\n",
        "num=0\n",
        "for i in range(15):\n",
        "  img_all,label_all= valid_batches[i]\n",
        "  #print(img_all.shape)\n",
        "  #print(label_all.shape)\n",
        "#print(label_all)\n",
        "  label=np.argmax(label_all,axis=1)\n",
        "  \n",
        "#print(label)\n",
        "  prediction=model.predict(img_all)\n",
        "  #print(prediction.shape) \n",
        "  predict_label_dig=np.argmax(prediction,axis=-1)\n",
        "  for j in range(15):  \n",
        "    #predict_label_dig\n",
        "    calculate_acc[0,label[j]]=calculate_acc[0,label[j]]+1\n",
        "    if predict_label_dig[j] == label[j]:\n",
        "      calculate_acc[1,predict_label_dig[j]]=calculate_acc[1,predict_label_dig[j]]+1\n",
        "    if label[j]==5:\n",
        "      #print(predict_label_dig[j])\n",
        "      if predict_label_dig[j] != label[j]:\n",
        "        print(predict_label_dig[j])\n",
        "        plt.figure(num)\n",
        "        img=np.array(img_all[j,:,:,:])/225\n",
        "        plt.imshow(img.squeeze())\n",
        "        num=num+1\n",
        "   \n",
        "\n",
        "\n",
        "calculate_acc \n",
        "evaluate_result=calculate_acc[1,:]/calculate_acc[0,:]\n",
        "evaluate_result \n",
        "#3，10，13，20，21，26，28"
      ],
      "metadata": {
        "id": "rh3LjYEPaqB5"
      },
      "execution_count": null,
      "outputs": []
    },
    {
      "cell_type": "markdown",
      "source": [
        "**predict test set image**"
      ],
      "metadata": {
        "id": "drSDHCiD0sb8"
      }
    },
    {
      "cell_type": "code",
      "source": [
        "from keras.preprocessing import image\n",
        "import matplotlib.pyplot as plt\n",
        "import urllib.request\n",
        "img_path = '/content/drive/MyDrive/datasets_garbage/Garbage classification/trash/trash109.jpg'\n",
        "\n",
        "img = image.load_img(img_path, target_size=(224, 224))\n",
        "img = image.img_to_array(img)\n",
        "p=model.predict(img[np.newaxis, ...])\n",
        "\n",
        "plt.title(\"Loaded Image\")\n",
        "plt.axis('off')\n",
        "image=np.array(img)/225\n",
        "plt.imshow(image.squeeze())\n",
        "\n",
        "#p=model2.predict(img[np.newaxis, ...])\n",
        "#print(p)\n",
        "#print(\"Predicted shape\",p.shape)\n",
        "labels = ['cardboard', 'glass', 'metal', 'paper', 'plastic', 'trash']\n",
        "print(\"Maximum Probability: \",np.max(p[0], axis=-1))\n",
        "predicted_class = labels[np.argmax(p[0], axis=-1)]\n",
        "print(\"Classified:\",predicted_class)\n",
        "\n"
      ],
      "metadata": {
        "colab": {
          "base_uri": "https://localhost:8080/",
          "height": 319
        },
        "id": "rVsdx8GHeXRT",
        "outputId": "1459ee23-dafa-49f6-cb4e-5e7931960342"
      },
      "execution_count": null,
      "outputs": [
        {
          "output_type": "stream",
          "name": "stderr",
          "text": [
            "Clipping input data to the valid range for imshow with RGB data ([0..1] for floats or [0..255] for integers).\n"
          ]
        },
        {
          "output_type": "stream",
          "name": "stdout",
          "text": [
            "Maximum Probability:  0.9997038\n",
            "Classified: trash\n"
          ]
        },
        {
          "output_type": "display_data",
          "data": {
            "text/plain": [
              "<Figure size 432x288 with 1 Axes>"
            ],
            "image/png": "[encoded data removed]"
          },
          "metadata": {
            "needs_background": "light"
          }
        }
      ]
    },
    {
      "cell_type": "markdown",
      "source": [
        "**draw bar of input url**"
      ],
      "metadata": {
        "id": "k-5sCFqQ0zmA"
      }
    },
    {
      "cell_type": "code",
      "source": [
        "classes=[]\n",
        "prob=[]\n",
        "print(\"\\n-------------------Individual Probability--------------------------------\\n\")\n",
        "\n",
        "    \n",
        "def plot_bar_x(imagePath):\n",
        "    import numpy as np\n",
        "    import urllib.request\n",
        "    from keras.preprocessing import image as ig\n",
        "    savepath='/content/drive/MyDrive/outside_url/picture.jpg'\n",
        "    urllib.request.urlretrieve(imagePath,savepath)\n",
        "    #image = Image.open(savepath)\n",
        "    test_image=ig.load_img(savepath,target_size=(224, 224))\n",
        "    test_image=ig.img_to_array(test_image)\n",
        "    test_image=np.expand_dims(test_image,axis=0)\n",
        "    result=model.predict(test_image,verbose=0)\n",
        "    classes=[]\n",
        "    prob=[]\n",
        "    labels = ['cardboard', 'glass', 'metal', 'paper', 'plastic', 'trash']\n",
        "    for i,j in enumerate (result[0],0):\n",
        "        print(labels[i].upper(),':',round(j*100,2),'%')#向上取整保留两位小数\n",
        "        classes.append(labels[i])\n",
        "        prob.append(round(j*100,2))#将概率和分类都append到list中\n",
        "        # this is for plotting purpose\n",
        "    index = np.arange(len(classes))#【0，1，2，3，4，5】\n",
        "    plt.bar(index, prob)#画出bar\n",
        "    plt.xlabel('Labels', fontsize=12)\n",
        "    plt.ylabel('Probability', fontsize=12)\n",
        "    plt.xticks(index, classes, fontsize=12, rotation=20)#标下标，旋转20°\n",
        "    plt.title('Probability for loaded image')\n",
        "    plt.show()\n",
        "\n",
        "\n",
        "#plot_bar_x()\n",
        "imagePath='/content/drive/MyDrive/datasets_garbage/Garbage classification/trash/trash102.jpg'\n",
        "plot_bar_x(imagePath)"
      ],
      "metadata": {
        "id": "Jdu8ej9weS1q"
      },
      "execution_count": null,
      "outputs": []
    },
    {
      "cell_type": "markdown",
      "source": [
        "**Connect to the anvil**"
      ],
      "metadata": {
        "id": "Y76di_wJ0-Fk"
      }
    },
    {
      "cell_type": "code",
      "source": [
        "import urllib.request\n",
        "from PIL import Image\n",
        "from keras.preprocessing import image as ig\n",
        "!pip install anvil-uplink\n",
        "import anvil.server\n",
        "from tensorflow.keras.preprocessing.image import ImageDataGenerator\n",
        "path = '/content/drive/MyDrive/datasets_garbage/Garbage classification'\n",
        "anvil.server.connect(\"MO5GXYH2BNZVQAPL5G4GOBYI-EEGR56LYS6J5GIZN\")\n",
        "train_batches = ImageDataGenerator(\n",
        "    preprocessing_function= tf.keras.applications.efficientnet.preprocess_input ,\n",
        "    shear_range=0.2,\n",
        "    zoom_range=0.2,\n",
        "    width_shift_range=0.2,\n",
        "    height_shift_range=0.2,\n",
        "    validation_split=0.1).flow_from_directory(\n",
        "    directory=path, target_size=(224,224), classes=['cardboard', 'glass', 'metal', 'paper', 'plastic', 'trash'], batch_size=16, subset='training')\n",
        "TrainImageClasses = train_batches.class_indices\n",
        "print(TrainImageClasses)\n",
        "table = {}\n",
        "for imageVal, imageName in zip(TrainImageClasses.values(), TrainImageClasses.keys()):\n",
        "    table[imageVal] = imageName\n",
        "\n",
        "@anvil.server.callable\n",
        "def predict_external_image(imagePath):\n",
        "    import numpy as np\n",
        "    savepath='/content/drive/MyDrive/outside_url/picture.jpg'\n",
        "    urllib.request.urlretrieve(imagePath,savepath)\n",
        "    #image = Image.open(savepath)\n",
        "    test_image=ig.load_img(savepath,target_size=(224, 224))\n",
        "    test_image=ig.img_to_array(test_image)\n",
        "    test_image=np.expand_dims(test_image,axis=0)\n",
        "    result=model.predict(test_image,verbose=0)\n",
        "    labels = ['cardboard', 'glass', 'metal', 'paper', 'plastic', 'trash']\n",
        "    predicted_class = table[np.argmax(result)]\n",
        "    #example_image = transformations(image)\n",
        "    image1=np.array(test_image)/225\n",
        "    plt.imshow(image1.squeeze())\n",
        "    print(\"The image resembles\", predicted_class + \".\")\n",
        "    return predicted_class\n"
      ],
      "metadata": {
        "id": "lFHIIofwgXPN"
      },
      "execution_count": null,
      "outputs": []
    },
    {
      "cell_type": "code",
      "source": [
        "imagePath='https://external-content.duckduckgo.com/iu/?u=https%3A%2F%2Ftse3.mm.bing.net%2Fth%3Fid%3DOIP.G37FJ-GhP9SrFxc8Msx16gHaHa%26pid%3DApi&f=1'\n",
        "#savepath='/content/drive/MyDrive/outside_url/picture.jpg'\n",
        "#urllib.request.urlretrieve(imagePath,savepath)\n",
        "predict_external_image(imagePath)"
      ],
      "metadata": {
        "colab": {
          "base_uri": "https://localhost:8080/",
          "height": 322
        },
        "id": "irK1WQftgp2b",
        "outputId": "92ebe07b-c8ae-4935-8b34-01ca266686f2"
      },
      "execution_count": null,
      "outputs": [
        {
          "output_type": "stream",
          "name": "stderr",
          "text": [
            "Clipping input data to the valid range for imshow with RGB data ([0..1] for floats or [0..255] for integers).\n"
          ]
        },
        {
          "output_type": "stream",
          "name": "stdout",
          "text": [
            "The image resembles metal.\n"
          ]
        },
        {
          "output_type": "execute_result",
          "data": {
            "text/plain": [
              "'metal'"
            ],
            "application/vnd.google.colaboratory.intrinsic+json": {
              "type": "string"
            }
          },
          "metadata": {},
          "execution_count": 22
        },
        {
          "output_type": "display_data",
          "data": {
            "text/plain": [
              "<Figure size 432x288 with 1 Axes>"
            ],
            "image/png": "[encoded data removed]"
          },
          "metadata": {
            "needs_background": "light"
          }
        }
      ]
    },
    {
      "cell_type": "markdown",
      "source": [
        "**Draw confusion matrix**"
      ],
      "metadata": {
        "id": "F4EJ_ZQQ1LLs"
      }
    },
    {
      "cell_type": "code",
      "source": [
        "import pandas as pd\n",
        "import seaborn as sns\n",
        "from sklearn.metrics import accuracy_score, confusion_matrix\n",
        "\n",
        "cm = confusion_matrix(label, predict_label_dig) #\n",
        "LABELS=['Cardboard', 'Glass', 'Metal', 'Paper', 'Plastic', 'Trash']\n",
        "cm_df = pd.DataFrame(cm,index = LABELS, columns = LABELS)\n",
        "\n",
        "plt.figure(figsize=(10,8))\n",
        "sns.heatmap(cm_df, annot=True)\n",
        "plt.title('Confusion Matrix \\nAccuracy:{0:.3f}'.format(accuracy_score(label, predict_label_dig)))\n",
        "plt.ylabel('True class')\n",
        "plt.xlabel('Predicted class')\n",
        "plt.show()"
      ],
      "metadata": {
        "colab": {
          "base_uri": "https://localhost:8080/",
          "height": 528
        },
        "id": "GgtcaNAkhIcu",
        "outputId": "14925b8d-aa84-4e2e-e8cf-3e9e7accf6a4"
      },
      "execution_count": null,
      "outputs": [
        {
          "output_type": "display_data",
          "data": {
            "text/plain": [
              "<Figure size 720x576 with 2 Axes>"
            ],
            "image/png": "[encoded data removed]"
          },
          "metadata": {
            "needs_background": "light"
          }
        }
      ]
    }
  ]
}